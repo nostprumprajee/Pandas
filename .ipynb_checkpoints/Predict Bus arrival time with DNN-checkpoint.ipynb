{
 "cells": [
  {
   "cell_type": "code",
   "execution_count": 5,
   "metadata": {},
   "outputs": [
    {
     "name": "stderr",
     "output_type": "stream",
     "text": [
      "C:\\Users\\nostw\\Anaconda3\\lib\\site-packages\\h5py\\__init__.py:36: FutureWarning: Conversion of the second argument of issubdtype from `float` to `np.floating` is deprecated. In future, it will be treated as `np.float64 == np.dtype(float).type`.\n",
      "  from ._conv import register_converters as _register_converters\n"
     ]
    }
   ],
   "source": [
    "import pandas as pd\n",
    "import numpy as np\n",
    "import tensorflow as tf\n",
    "from sklearn.metrics import mean_squared_error\n",
    "from math import sqrt"
   ]
  },
  {
   "cell_type": "code",
   "execution_count": 6,
   "metadata": {},
   "outputs": [
    {
     "name": "stdout",
     "output_type": "stream",
     "text": [
      "Shape of data:  (241, 15)\n"
     ]
    }
   ],
   "source": [
    "df = pd.read_csv('https://github.com/wichai-t/instruction_media/raw/master/Python%20for%20prediction/example/data/bus_traveling_data.csv', header=0)\n",
    "\n",
    "print('Shape of data: ', df.shape)"
   ]
  },
  {
   "cell_type": "code",
   "execution_count": 7,
   "metadata": {},
   "outputs": [
    {
     "data": {
      "text/html": [
       "<div>\n",
       "<style scoped>\n",
       "    .dataframe tbody tr th:only-of-type {\n",
       "        vertical-align: middle;\n",
       "    }\n",
       "\n",
       "    .dataframe tbody tr th {\n",
       "        vertical-align: top;\n",
       "    }\n",
       "\n",
       "    .dataframe thead th {\n",
       "        text-align: right;\n",
       "    }\n",
       "</style>\n",
       "<table border=\"1\" class=\"dataframe\">\n",
       "  <thead>\n",
       "    <tr style=\"text-align: right;\">\n",
       "      <th></th>\n",
       "      <th>t_bc</th>\n",
       "      <th>t_bc_ff</th>\n",
       "      <th>t_bc_extp</th>\n",
       "      <th>t_ab</th>\n",
       "      <th>link_progress</th>\n",
       "      <th>speed</th>\n",
       "      <th>sms_ab</th>\n",
       "      <th>exponential_decayed_speed</th>\n",
       "      <th>two_gps_space_mean_speed</th>\n",
       "      <th>six_gps_space_mean_speed</th>\n",
       "      <th>eighteen_gps_space_mean_speed</th>\n",
       "      <th>thirty_gps_space_mean_speed</th>\n",
       "      <th>sixty_gps_space_mean_speed</th>\n",
       "      <th>ninety_gps_space_mean_speed</th>\n",
       "      <th>BC_distance_in_meter_by_linear_ref</th>\n",
       "    </tr>\n",
       "  </thead>\n",
       "  <tbody>\n",
       "    <tr>\n",
       "      <th>0</th>\n",
       "      <td>20</td>\n",
       "      <td>29</td>\n",
       "      <td>0.0</td>\n",
       "      <td>0</td>\n",
       "      <td>0.089130</td>\n",
       "      <td>33</td>\n",
       "      <td>33.000000</td>\n",
       "      <td>31.886683</td>\n",
       "      <td>33.1104</td>\n",
       "      <td>27.4518</td>\n",
       "      <td>25.6430</td>\n",
       "      <td>21.7842</td>\n",
       "      <td>12.6122</td>\n",
       "      <td>8.4081</td>\n",
       "      <td>224.063441</td>\n",
       "    </tr>\n",
       "    <tr>\n",
       "      <th>1</th>\n",
       "      <td>10</td>\n",
       "      <td>17</td>\n",
       "      <td>11.0</td>\n",
       "      <td>10</td>\n",
       "      <td>0.494944</td>\n",
       "      <td>32</td>\n",
       "      <td>43.830200</td>\n",
       "      <td>31.915012</td>\n",
       "      <td>34.1690</td>\n",
       "      <td>27.8687</td>\n",
       "      <td>27.4193</td>\n",
       "      <td>22.4323</td>\n",
       "      <td>13.1760</td>\n",
       "      <td>8.7840</td>\n",
       "      <td>124.237845</td>\n",
       "    </tr>\n",
       "    <tr>\n",
       "      <th>2</th>\n",
       "      <td>30</td>\n",
       "      <td>60</td>\n",
       "      <td>768.0</td>\n",
       "      <td>10</td>\n",
       "      <td>0.012866</td>\n",
       "      <td>16</td>\n",
       "      <td>1.139332</td>\n",
       "      <td>21.727783</td>\n",
       "      <td>8.6832</td>\n",
       "      <td>21.2578</td>\n",
       "      <td>25.2992</td>\n",
       "      <td>18.9315</td>\n",
       "      <td>11.1607</td>\n",
       "      <td>7.4404</td>\n",
       "      <td>242.823587</td>\n",
       "    </tr>\n",
       "    <tr>\n",
       "      <th>3</th>\n",
       "      <td>20</td>\n",
       "      <td>42</td>\n",
       "      <td>47.0</td>\n",
       "      <td>20</td>\n",
       "      <td>0.302005</td>\n",
       "      <td>30</td>\n",
       "      <td>13.372144</td>\n",
       "      <td>23.795837</td>\n",
       "      <td>24.6647</td>\n",
       "      <td>19.2013</td>\n",
       "      <td>25.8253</td>\n",
       "      <td>19.6032</td>\n",
       "      <td>11.5677</td>\n",
       "      <td>7.7118</td>\n",
       "      <td>171.698711</td>\n",
       "    </tr>\n",
       "    <tr>\n",
       "      <th>4</th>\n",
       "      <td>10</td>\n",
       "      <td>18</td>\n",
       "      <td>13.0</td>\n",
       "      <td>30</td>\n",
       "      <td>0.713728</td>\n",
       "      <td>35</td>\n",
       "      <td>21.068264</td>\n",
       "      <td>26.596878</td>\n",
       "      <td>34.7717</td>\n",
       "      <td>18.9430</td>\n",
       "      <td>26.4936</td>\n",
       "      <td>20.5449</td>\n",
       "      <td>12.1415</td>\n",
       "      <td>8.0943</td>\n",
       "      <td>70.419530</td>\n",
       "    </tr>\n",
       "  </tbody>\n",
       "</table>\n",
       "</div>"
      ],
      "text/plain": [
       "   t_bc  t_bc_ff  t_bc_extp  t_ab  link_progress  speed     sms_ab  \\\n",
       "0    20       29        0.0     0       0.089130     33  33.000000   \n",
       "1    10       17       11.0    10       0.494944     32  43.830200   \n",
       "2    30       60      768.0    10       0.012866     16   1.139332   \n",
       "3    20       42       47.0    20       0.302005     30  13.372144   \n",
       "4    10       18       13.0    30       0.713728     35  21.068264   \n",
       "\n",
       "   exponential_decayed_speed  two_gps_space_mean_speed  \\\n",
       "0                  31.886683                   33.1104   \n",
       "1                  31.915012                   34.1690   \n",
       "2                  21.727783                    8.6832   \n",
       "3                  23.795837                   24.6647   \n",
       "4                  26.596878                   34.7717   \n",
       "\n",
       "   six_gps_space_mean_speed  eighteen_gps_space_mean_speed  \\\n",
       "0                   27.4518                        25.6430   \n",
       "1                   27.8687                        27.4193   \n",
       "2                   21.2578                        25.2992   \n",
       "3                   19.2013                        25.8253   \n",
       "4                   18.9430                        26.4936   \n",
       "\n",
       "   thirty_gps_space_mean_speed  sixty_gps_space_mean_speed  \\\n",
       "0                      21.7842                     12.6122   \n",
       "1                      22.4323                     13.1760   \n",
       "2                      18.9315                     11.1607   \n",
       "3                      19.6032                     11.5677   \n",
       "4                      20.5449                     12.1415   \n",
       "\n",
       "   ninety_gps_space_mean_speed  BC_distance_in_meter_by_linear_ref  \n",
       "0                       8.4081                          224.063441  \n",
       "1                       8.7840                          124.237845  \n",
       "2                       7.4404                          242.823587  \n",
       "3                       7.7118                          171.698711  \n",
       "4                       8.0943                           70.419530  "
      ]
     },
     "execution_count": 7,
     "metadata": {},
     "output_type": "execute_result"
    }
   ],
   "source": [
    "df.head()"
   ]
  },
  {
   "cell_type": "markdown",
   "metadata": {},
   "source": [
    "## Split train/Test Data"
   ]
  },
  {
   "cell_type": "code",
   "execution_count": 8,
   "metadata": {},
   "outputs": [],
   "source": [
    "train_df = df.iloc[:round(len(df)*.7)]\n",
    "test_df = df.iloc[round(len(df)*.7)+1:]"
   ]
  },
  {
   "cell_type": "code",
   "execution_count": 9,
   "metadata": {},
   "outputs": [],
   "source": [
    "# select a label and features\n",
    "FEATURES = df.columns[~df.columns.isin(['t_bc','stop_pair','A_stop_id','C_stop_id'])].tolist()\n",
    "LABEL = \"t_bc\""
   ]
  },
  {
   "cell_type": "code",
   "execution_count": 10,
   "metadata": {},
   "outputs": [],
   "source": [
    "def data_init(data_set):\n",
    "    feature_cols = {k: tf.constant(data_set[k].values) for k in FEATURES}\n",
    "    labels = tf.constant(data_set[LABEL].values)\n",
    "    return feature_cols, labels"
   ]
  },
  {
   "cell_type": "markdown",
   "metadata": {},
   "source": [
    "## Create DNN Model\n"
   ]
  },
  {
   "cell_type": "code",
   "execution_count": 11,
   "metadata": {},
   "outputs": [
    {
     "name": "stdout",
     "output_type": "stream",
     "text": [
      "WARNING:tensorflow:From C:\\Users\\nostw\\Anaconda3\\lib\\site-packages\\tensorflow\\contrib\\learn\\python\\learn\\datasets\\base.py:198: retry (from tensorflow.contrib.learn.python.learn.datasets.base) is deprecated and will be removed in a future version.\n",
      "Instructions for updating:\n",
      "Use the retry module or similar alternatives.\n",
      "WARNING:tensorflow:From C:\\Users\\nostw\\Anaconda3\\lib\\site-packages\\tensorflow\\contrib\\learn\\python\\learn\\estimators\\dnn.py:660: regression_head (from tensorflow.contrib.learn.python.learn.estimators.head) is deprecated and will be removed in a future version.\n",
      "Instructions for updating:\n",
      "Please switch to tf.contrib.estimator.*_head.\n",
      "WARNING:tensorflow:From C:\\Users\\nostw\\Anaconda3\\lib\\site-packages\\tensorflow\\contrib\\learn\\python\\learn\\estimators\\estimator.py:1165: BaseEstimator.__init__ (from tensorflow.contrib.learn.python.learn.estimators.estimator) is deprecated and will be removed in a future version.\n",
      "Instructions for updating:\n",
      "Please replace uses of any Estimator from tf.contrib.learn with an Estimator from tf.estimator.*\n",
      "WARNING:tensorflow:From C:\\Users\\nostw\\Anaconda3\\lib\\site-packages\\tensorflow\\contrib\\learn\\python\\learn\\estimators\\estimator.py:427: RunConfig.__init__ (from tensorflow.contrib.learn.python.learn.estimators.run_config) is deprecated and will be removed in a future version.\n",
      "Instructions for updating:\n",
      "When switching to tf.estimator.Estimator, use tf.estimator.RunConfig instead.\n",
      "INFO:tensorflow:Using default config.\n",
      "WARNING:tensorflow:Using temporary folder as model directory: C:\\Users\\nostw\\AppData\\Local\\Temp\\tmp8wm5owf9\n",
      "INFO:tensorflow:Using config: {'_task_type': None, '_task_id': 0, '_cluster_spec': <tensorflow.python.training.server_lib.ClusterSpec object at 0x0000021A47934A20>, '_master': '', '_num_ps_replicas': 0, '_num_worker_replicas': 0, '_environment': 'local', '_is_chief': True, '_evaluation_master': '', '_tf_config': gpu_options {\n",
      "  per_process_gpu_memory_fraction: 1.0\n",
      "}\n",
      ", '_tf_random_seed': None, '_save_summary_steps': 100, '_save_checkpoints_secs': 600, '_log_step_count_steps': 100, '_session_config': None, '_save_checkpoints_steps': None, '_keep_checkpoint_max': 5, '_keep_checkpoint_every_n_hours': 10000, '_model_dir': 'C:\\\\Users\\\\nostw\\\\AppData\\\\Local\\\\Temp\\\\tmp8wm5owf9'}\n"
     ]
    }
   ],
   "source": [
    "# Initializes a DNNRegressor instance with 4 hidden layer, each 30 nodes\n",
    "estimator = tf.contrib.learn.DNNRegressor(\n",
    "    feature_columns=[tf.contrib.layers.real_valued_column(k) for k in FEATURES],\n",
    "    hidden_units=[30, 30, 30, 30])"
   ]
  },
  {
   "cell_type": "code",
   "execution_count": 12,
   "metadata": {},
   "outputs": [
    {
     "name": "stdout",
     "output_type": "stream",
     "text": [
      "WARNING:tensorflow:Rank of input Tensor (1) should be the same as output_rank (2) for column. Will attempt to expand dims. It is highly recommended that you resize your input, as this behavior may change.\n",
      "WARNING:tensorflow:Rank of input Tensor (1) should be the same as output_rank (2) for column. Will attempt to expand dims. It is highly recommended that you resize your input, as this behavior may change.\n",
      "WARNING:tensorflow:Rank of input Tensor (1) should be the same as output_rank (2) for column. Will attempt to expand dims. It is highly recommended that you resize your input, as this behavior may change.\n",
      "WARNING:tensorflow:Rank of input Tensor (1) should be the same as output_rank (2) for column. Will attempt to expand dims. It is highly recommended that you resize your input, as this behavior may change.\n",
      "WARNING:tensorflow:Rank of input Tensor (1) should be the same as output_rank (2) for column. Will attempt to expand dims. It is highly recommended that you resize your input, as this behavior may change.\n",
      "WARNING:tensorflow:Rank of input Tensor (1) should be the same as output_rank (2) for column. Will attempt to expand dims. It is highly recommended that you resize your input, as this behavior may change.\n",
      "WARNING:tensorflow:Rank of input Tensor (1) should be the same as output_rank (2) for column. Will attempt to expand dims. It is highly recommended that you resize your input, as this behavior may change.\n",
      "WARNING:tensorflow:Rank of input Tensor (1) should be the same as output_rank (2) for column. Will attempt to expand dims. It is highly recommended that you resize your input, as this behavior may change.\n",
      "WARNING:tensorflow:Rank of input Tensor (1) should be the same as output_rank (2) for column. Will attempt to expand dims. It is highly recommended that you resize your input, as this behavior may change.\n",
      "WARNING:tensorflow:Rank of input Tensor (1) should be the same as output_rank (2) for column. Will attempt to expand dims. It is highly recommended that you resize your input, as this behavior may change.\n",
      "WARNING:tensorflow:Rank of input Tensor (1) should be the same as output_rank (2) for column. Will attempt to expand dims. It is highly recommended that you resize your input, as this behavior may change.\n",
      "WARNING:tensorflow:Rank of input Tensor (1) should be the same as output_rank (2) for column. Will attempt to expand dims. It is highly recommended that you resize your input, as this behavior may change.\n",
      "WARNING:tensorflow:Rank of input Tensor (1) should be the same as output_rank (2) for column. Will attempt to expand dims. It is highly recommended that you resize your input, as this behavior may change.\n",
      "WARNING:tensorflow:Rank of input Tensor (1) should be the same as output_rank (2) for column. Will attempt to expand dims. It is highly recommended that you resize your input, as this behavior may change.\n",
      "WARNING:tensorflow:From C:\\Users\\nostw\\Anaconda3\\lib\\site-packages\\tensorflow\\contrib\\learn\\python\\learn\\estimators\\head.py:678: ModelFnOps.__new__ (from tensorflow.contrib.learn.python.learn.estimators.model_fn) is deprecated and will be removed in a future version.\n",
      "Instructions for updating:\n",
      "When switching to tf.estimator.Estimator, use tf.estimator.EstimatorSpec. You can use the `estimator_spec` method to create an equivalent one.\n",
      "INFO:tensorflow:Create CheckpointSaverHook.\n",
      "INFO:tensorflow:Graph was finalized.\n",
      "INFO:tensorflow:Running local_init_op.\n",
      "INFO:tensorflow:Done running local_init_op.\n",
      "INFO:tensorflow:Saving checkpoints for 1 into C:\\Users\\nostw\\AppData\\Local\\Temp\\tmp8wm5owf9\\model.ckpt.\n",
      "INFO:tensorflow:loss = 481.51508, step = 1\n",
      "INFO:tensorflow:global_step/sec: 931.871\n",
      "INFO:tensorflow:loss = 8.783922, step = 101 (0.107 sec)\n",
      "INFO:tensorflow:global_step/sec: 1366.81\n",
      "INFO:tensorflow:loss = 7.3450503, step = 201 (0.073 sec)\n",
      "INFO:tensorflow:global_step/sec: 1385.17\n",
      "INFO:tensorflow:loss = 6.571739, step = 301 (0.072 sec)\n",
      "INFO:tensorflow:global_step/sec: 1404.71\n",
      "INFO:tensorflow:loss = 6.204831, step = 401 (0.072 sec)\n",
      "INFO:tensorflow:global_step/sec: 1385.21\n",
      "INFO:tensorflow:loss = 5.57685, step = 501 (0.071 sec)\n",
      "INFO:tensorflow:global_step/sec: 1362.48\n",
      "INFO:tensorflow:loss = 5.037982, step = 601 (0.073 sec)\n",
      "INFO:tensorflow:global_step/sec: 1385.19\n",
      "INFO:tensorflow:loss = 5.042569, step = 701 (0.073 sec)\n",
      "INFO:tensorflow:global_step/sec: 1385.19\n",
      "INFO:tensorflow:loss = 4.768489, step = 801 (0.071 sec)\n",
      "INFO:tensorflow:global_step/sec: 1366.23\n",
      "INFO:tensorflow:loss = 4.5361195, step = 901 (0.073 sec)\n",
      "INFO:tensorflow:global_step/sec: 1558.36\n",
      "INFO:tensorflow:loss = 4.3849792, step = 1001 (0.064 sec)\n",
      "INFO:tensorflow:global_step/sec: 1511.11\n",
      "INFO:tensorflow:loss = 4.2348447, step = 1101 (0.066 sec)\n",
      "INFO:tensorflow:global_step/sec: 1329.76\n",
      "INFO:tensorflow:loss = 4.0694723, step = 1201 (0.075 sec)\n",
      "INFO:tensorflow:global_step/sec: 1404.75\n",
      "INFO:tensorflow:loss = 3.8244603, step = 1301 (0.071 sec)\n",
      "INFO:tensorflow:global_step/sec: 1385.17\n",
      "INFO:tensorflow:loss = 4.517937, step = 1401 (0.072 sec)\n",
      "INFO:tensorflow:global_step/sec: 1510.32\n",
      "INFO:tensorflow:loss = 3.4810207, step = 1501 (0.066 sec)\n",
      "INFO:tensorflow:global_step/sec: 1558.95\n",
      "INFO:tensorflow:loss = 3.5479057, step = 1601 (0.064 sec)\n",
      "INFO:tensorflow:global_step/sec: 1473.02\n",
      "INFO:tensorflow:loss = 3.4376209, step = 1701 (0.068 sec)\n",
      "INFO:tensorflow:global_step/sec: 1511.1\n",
      "INFO:tensorflow:loss = 3.3152025, step = 1801 (0.066 sec)\n",
      "INFO:tensorflow:global_step/sec: 1466.7\n",
      "INFO:tensorflow:loss = 3.2188463, step = 1901 (0.068 sec)\n",
      "INFO:tensorflow:global_step/sec: 1366.22\n",
      "INFO:tensorflow:loss = 3.091286, step = 2001 (0.073 sec)\n",
      "INFO:tensorflow:global_step/sec: 1347.75\n",
      "INFO:tensorflow:loss = 2.977409, step = 2101 (0.074 sec)\n",
      "INFO:tensorflow:global_step/sec: 1466.69\n",
      "INFO:tensorflow:loss = 3.0339136, step = 2201 (0.068 sec)\n",
      "INFO:tensorflow:global_step/sec: 1466.67\n",
      "INFO:tensorflow:loss = 2.8001528, step = 2301 (0.068 sec)\n",
      "INFO:tensorflow:global_step/sec: 1445.43\n",
      "INFO:tensorflow:loss = 2.904519, step = 2401 (0.069 sec)\n",
      "INFO:tensorflow:global_step/sec: 1511.13\n",
      "INFO:tensorflow:loss = 2.9064684, step = 2501 (0.066 sec)\n",
      "INFO:tensorflow:global_step/sec: 1534.35\n",
      "INFO:tensorflow:loss = 2.606838, step = 2601 (0.066 sec)\n",
      "INFO:tensorflow:global_step/sec: 1511.15\n",
      "INFO:tensorflow:loss = 2.5705442, step = 2701 (0.065 sec)\n",
      "INFO:tensorflow:global_step/sec: 1488.55\n",
      "INFO:tensorflow:loss = 2.7763133, step = 2801 (0.067 sec)\n",
      "INFO:tensorflow:global_step/sec: 1466.67\n",
      "INFO:tensorflow:loss = 2.5728137, step = 2901 (0.068 sec)\n",
      "INFO:tensorflow:global_step/sec: 1466.69\n",
      "INFO:tensorflow:loss = 2.6239104, step = 3001 (0.068 sec)\n",
      "INFO:tensorflow:global_step/sec: 1558.35\n",
      "INFO:tensorflow:loss = 2.4183974, step = 3101 (0.064 sec)\n",
      "INFO:tensorflow:global_step/sec: 1662.23\n",
      "INFO:tensorflow:loss = 2.4160635, step = 3201 (0.060 sec)\n",
      "INFO:tensorflow:global_step/sec: 1488.58\n",
      "INFO:tensorflow:loss = 2.3073359, step = 3301 (0.067 sec)\n",
      "INFO:tensorflow:global_step/sec: 1511.13\n",
      "INFO:tensorflow:loss = 2.2714062, step = 3401 (0.066 sec)\n",
      "INFO:tensorflow:global_step/sec: 1466.67\n",
      "INFO:tensorflow:loss = 2.2491496, step = 3501 (0.068 sec)\n",
      "INFO:tensorflow:global_step/sec: 1366.23\n",
      "INFO:tensorflow:loss = 2.2102025, step = 3601 (0.073 sec)\n",
      "INFO:tensorflow:global_step/sec: 1511.11\n",
      "INFO:tensorflow:loss = 2.1511075, step = 3701 (0.066 sec)\n",
      "INFO:tensorflow:global_step/sec: 1634.99\n",
      "INFO:tensorflow:loss = 2.1160228, step = 3801 (0.061 sec)\n",
      "INFO:tensorflow:global_step/sec: 1634.98\n",
      "INFO:tensorflow:loss = 2.115727, step = 3901 (0.061 sec)\n",
      "INFO:tensorflow:global_step/sec: 1634.99\n",
      "INFO:tensorflow:loss = 2.0503633, step = 4001 (0.061 sec)\n",
      "INFO:tensorflow:global_step/sec: 1634.98\n",
      "INFO:tensorflow:loss = 2.1160989, step = 4101 (0.061 sec)\n",
      "INFO:tensorflow:global_step/sec: 1690.41\n",
      "INFO:tensorflow:loss = 1.9693534, step = 4201 (0.059 sec)\n",
      "INFO:tensorflow:global_step/sec: 1608.63\n",
      "INFO:tensorflow:loss = 1.9123616, step = 4301 (0.062 sec)\n",
      "INFO:tensorflow:global_step/sec: 1404.69\n",
      "INFO:tensorflow:loss = 1.8545035, step = 4401 (0.071 sec)\n",
      "INFO:tensorflow:global_step/sec: 1608.61\n",
      "INFO:tensorflow:loss = 1.825881, step = 4501 (0.062 sec)\n",
      "INFO:tensorflow:global_step/sec: 1488.57\n",
      "INFO:tensorflow:loss = 1.8379819, step = 4601 (0.067 sec)\n",
      "INFO:tensorflow:global_step/sec: 1558.35\n",
      "INFO:tensorflow:loss = 1.771872, step = 4701 (0.064 sec)\n"
     ]
    },
    {
     "name": "stdout",
     "output_type": "stream",
     "text": [
      "INFO:tensorflow:global_step/sec: 1488.57\n",
      "INFO:tensorflow:loss = 1.736019, step = 4801 (0.067 sec)\n",
      "INFO:tensorflow:global_step/sec: 1558.36\n",
      "INFO:tensorflow:loss = 1.6941946, step = 4901 (0.063 sec)\n",
      "INFO:tensorflow:Saving checkpoints for 5000 into C:\\Users\\nostw\\AppData\\Local\\Temp\\tmp8wm5owf9\\model.ckpt.\n",
      "INFO:tensorflow:Loss for final step: 1.689443.\n"
     ]
    },
    {
     "data": {
      "text/plain": [
       "DNNRegressor(params={'head': <tensorflow.contrib.learn.python.learn.estimators.head._RegressionHead object at 0x0000021A4781EB38>, 'hidden_units': [30, 30, 30, 30], 'feature_columns': (_RealValuedColumn(column_name='t_bc_ff', dimension=1, default_value=None, dtype=tf.float32, normalizer=None), _RealValuedColumn(column_name='t_bc_extp', dimension=1, default_value=None, dtype=tf.float32, normalizer=None), _RealValuedColumn(column_name='t_ab', dimension=1, default_value=None, dtype=tf.float32, normalizer=None), _RealValuedColumn(column_name='link_progress', dimension=1, default_value=None, dtype=tf.float32, normalizer=None), _RealValuedColumn(column_name='speed', dimension=1, default_value=None, dtype=tf.float32, normalizer=None), _RealValuedColumn(column_name='sms_ab', dimension=1, default_value=None, dtype=tf.float32, normalizer=None), _RealValuedColumn(column_name='exponential_decayed_speed', dimension=1, default_value=None, dtype=tf.float32, normalizer=None), _RealValuedColumn(column_name='two_gps_space_mean_speed', dimension=1, default_value=None, dtype=tf.float32, normalizer=None), _RealValuedColumn(column_name='six_gps_space_mean_speed', dimension=1, default_value=None, dtype=tf.float32, normalizer=None), _RealValuedColumn(column_name='eighteen_gps_space_mean_speed', dimension=1, default_value=None, dtype=tf.float32, normalizer=None), _RealValuedColumn(column_name='thirty_gps_space_mean_speed', dimension=1, default_value=None, dtype=tf.float32, normalizer=None), _RealValuedColumn(column_name='sixty_gps_space_mean_speed', dimension=1, default_value=None, dtype=tf.float32, normalizer=None), _RealValuedColumn(column_name='ninety_gps_space_mean_speed', dimension=1, default_value=None, dtype=tf.float32, normalizer=None), _RealValuedColumn(column_name='BC_distance_in_meter_by_linear_ref', dimension=1, default_value=None, dtype=tf.float32, normalizer=None)), 'optimizer': None, 'activation_fn': <function relu at 0x0000021A4304E598>, 'dropout': None, 'gradient_clip_norm': None, 'embedding_lr_multipliers': None, 'input_layer_min_slice_size': None})"
      ]
     },
     "execution_count": 12,
     "metadata": {},
     "output_type": "execute_result"
    }
   ],
   "source": [
    "# training\n",
    "estimator.fit(input_fn=lambda: data_init(train_df), max_steps=5000)"
   ]
  },
  {
   "cell_type": "markdown",
   "metadata": {},
   "source": [
    "## Predict"
   ]
  },
  {
   "cell_type": "code",
   "execution_count": 13,
   "metadata": {
    "scrolled": true
   },
   "outputs": [
    {
     "name": "stdout",
     "output_type": "stream",
     "text": [
      "WARNING:tensorflow:From <ipython-input-13-e4e548c9fa8d>:1: calling DNNRegressor.predict (from tensorflow.contrib.learn.python.learn.estimators.dnn) with as_iterable=False is deprecated and will be removed after 2016-09-15.\n",
      "Instructions for updating:\n",
      "The default behavior of predict() is changing. The default value for\n",
      "as_iterable will change to True, and then the flag will be removed\n",
      "altogether. The behavior of this flag is described below.\n",
      "WARNING:tensorflow:From C:\\Users\\nostw\\Anaconda3\\lib\\site-packages\\tensorflow\\python\\util\\deprecation.py:497: calling DNNRegressor.predict (from tensorflow.contrib.learn.python.learn.estimators.dnn) with outputs=None is deprecated and will be removed after 2017-03-01.\n",
      "Instructions for updating:\n",
      "Please switch to predict_scores, or set `outputs` argument.\n",
      "WARNING:tensorflow:From C:\\Users\\nostw\\Anaconda3\\lib\\site-packages\\tensorflow\\contrib\\learn\\python\\learn\\estimators\\dnn.py:743: calling DNNRegressor.predict_scores (from tensorflow.contrib.learn.python.learn.estimators.dnn) with as_iterable=False is deprecated and will be removed after 2016-09-15.\n",
      "Instructions for updating:\n",
      "The default behavior of predict() is changing. The default value for\n",
      "as_iterable will change to True, and then the flag will be removed\n",
      "altogether. The behavior of this flag is described below.\n",
      "WARNING:tensorflow:From C:\\Users\\nostw\\Anaconda3\\lib\\site-packages\\tensorflow\\contrib\\learn\\python\\learn\\estimators\\dnn.py:779: calling BaseEstimator.predict (from tensorflow.contrib.learn.python.learn.estimators.estimator) with as_iterable is deprecated and will be removed after 2016-12-01.\n",
      "Instructions for updating:\n",
      "Estimator is decoupled from Scikit Learn interface by moving into\n",
      "separate class SKCompat. Arguments x, y and batch_size are only\n",
      "available in the SKCompat class, Estimator will only accept input_fn.\n",
      "Example conversion:\n",
      "  est = Estimator(...) -> est = SKCompat(Estimator(...))\n",
      "WARNING:tensorflow:Rank of input Tensor (1) should be the same as output_rank (2) for column. Will attempt to expand dims. It is highly recommended that you resize your input, as this behavior may change.\n",
      "WARNING:tensorflow:Rank of input Tensor (1) should be the same as output_rank (2) for column. Will attempt to expand dims. It is highly recommended that you resize your input, as this behavior may change.\n",
      "WARNING:tensorflow:Rank of input Tensor (1) should be the same as output_rank (2) for column. Will attempt to expand dims. It is highly recommended that you resize your input, as this behavior may change.\n",
      "WARNING:tensorflow:Rank of input Tensor (1) should be the same as output_rank (2) for column. Will attempt to expand dims. It is highly recommended that you resize your input, as this behavior may change.\n",
      "WARNING:tensorflow:Rank of input Tensor (1) should be the same as output_rank (2) for column. Will attempt to expand dims. It is highly recommended that you resize your input, as this behavior may change.\n",
      "WARNING:tensorflow:Rank of input Tensor (1) should be the same as output_rank (2) for column. Will attempt to expand dims. It is highly recommended that you resize your input, as this behavior may change.\n",
      "WARNING:tensorflow:Rank of input Tensor (1) should be the same as output_rank (2) for column. Will attempt to expand dims. It is highly recommended that you resize your input, as this behavior may change.\n",
      "WARNING:tensorflow:Rank of input Tensor (1) should be the same as output_rank (2) for column. Will attempt to expand dims. It is highly recommended that you resize your input, as this behavior may change.\n",
      "WARNING:tensorflow:Rank of input Tensor (1) should be the same as output_rank (2) for column. Will attempt to expand dims. It is highly recommended that you resize your input, as this behavior may change.\n",
      "WARNING:tensorflow:Rank of input Tensor (1) should be the same as output_rank (2) for column. Will attempt to expand dims. It is highly recommended that you resize your input, as this behavior may change.\n",
      "WARNING:tensorflow:Rank of input Tensor (1) should be the same as output_rank (2) for column. Will attempt to expand dims. It is highly recommended that you resize your input, as this behavior may change.\n",
      "WARNING:tensorflow:Rank of input Tensor (1) should be the same as output_rank (2) for column. Will attempt to expand dims. It is highly recommended that you resize your input, as this behavior may change.\n",
      "WARNING:tensorflow:Rank of input Tensor (1) should be the same as output_rank (2) for column. Will attempt to expand dims. It is highly recommended that you resize your input, as this behavior may change.\n",
      "WARNING:tensorflow:Rank of input Tensor (1) should be the same as output_rank (2) for column. Will attempt to expand dims. It is highly recommended that you resize your input, as this behavior may change.\n",
      "INFO:tensorflow:Graph was finalized.\n",
      "INFO:tensorflow:Restoring parameters from C:\\Users\\nostw\\AppData\\Local\\Temp\\tmp8wm5owf9\\model.ckpt-5000\n",
      "INFO:tensorflow:Running local_init_op.\n",
      "INFO:tensorflow:Done running local_init_op.\n"
     ]
    }
   ],
   "source": [
    "y_predict = estimator.predict(input_fn=lambda: data_init(test_df), as_iterable=False)"
   ]
  },
  {
   "cell_type": "markdown",
   "metadata": {},
   "source": [
    "## Evaluate"
   ]
  },
  {
   "cell_type": "code",
   "execution_count": 14,
   "metadata": {},
   "outputs": [
    {
     "name": "stdout",
     "output_type": "stream",
     "text": [
      "Mean absolute error (MAE): \t\t2.48 sec\n",
      "Root mean square error (RMSE): \t\t4.54 sec\n",
      "Mean absolute percentage error (MAPE): \t14.47 %\n"
     ]
    }
   ],
   "source": [
    "y_test = test_df[LABEL].values\n",
    "mae = np.mean([abs(true-predict) for true,predict in zip(y_test, y_predict)])\n",
    "rmse = sqrt(mean_squared_error(y_test, y_predict))\n",
    "mape = np.mean([abs(true-predict)/true for true,predict in zip(y_test, y_predict)])*100\n",
    "\n",
    "print('Mean absolute error (MAE): \\t\\t%.2f sec' % mae)\n",
    "print('Root mean square error (RMSE): \\t\\t%.2f sec' % rmse)\n",
    "print('Mean absolute percentage error (MAPE): \\t%.2f %%' % mape)"
   ]
  },
  {
   "cell_type": "markdown",
   "metadata": {},
   "source": [
    "## Compare with OLS"
   ]
  },
  {
   "cell_type": "code",
   "execution_count": 15,
   "metadata": {},
   "outputs": [
    {
     "name": "stdout",
     "output_type": "stream",
     "text": [
      "MAE improve:  11.99 %\n",
      "RMSE improve: -31.14 %\n",
      "MAPE improve: 6.20 %\n"
     ]
    }
   ],
   "source": [
    "print('MAE improve:  %.2f %%' % ((2.82-mae)/.0282))\n",
    "print('RMSE improve: %.2f %%' % ((3.46-rmse)/.0346))\n",
    "print('MAPE improve: %.2f %%' % (20.67-mape))"
   ]
  },
  {
   "cell_type": "code",
   "execution_count": null,
   "metadata": {},
   "outputs": [],
   "source": []
  }
 ],
 "metadata": {
  "kernelspec": {
   "display_name": "Python 3",
   "language": "python",
   "name": "python3"
  },
  "language_info": {
   "codemirror_mode": {
    "name": "ipython",
    "version": 3
   },
   "file_extension": ".py",
   "mimetype": "text/x-python",
   "name": "python",
   "nbconvert_exporter": "python",
   "pygments_lexer": "ipython3",
   "version": "3.6.4"
  }
 },
 "nbformat": 4,
 "nbformat_minor": 2
}
